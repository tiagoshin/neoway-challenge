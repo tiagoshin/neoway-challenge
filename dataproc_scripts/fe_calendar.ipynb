{
 "cells": [
  {
   "cell_type": "code",
   "execution_count": 1,
   "metadata": {},
   "outputs": [],
   "source": [
    "from pyspark.context import SparkContext\n",
    "from pyspark.sql.session import SparkSession\n",
    "\n",
    "sc = SparkContext()\n",
    "spark = SparkSession(sc)\n",
    "\n",
    "import os, tempfile\n",
    "tmp = tempfile.NamedTemporaryFile(delete=False)"
   ]
  },
  {
   "cell_type": "markdown",
   "metadata": {},
   "source": [
    "### Bucket parameters. Remember to update it with the same values as the entryfile"
   ]
  },
  {
   "cell_type": "code",
   "execution_count": null,
   "metadata": {},
   "outputs": [],
   "source": [
    "DATA_BUCKET=\"neoway-challenge4\"\n",
    "BIGQUERY_BUCKET=\"bigquery-tempbucket-nc4\"\n",
    "SCRIPTS_BUCKET=\"dataproc_shin_scripts4\""
   ]
  },
  {
   "cell_type": "markdown",
   "metadata": {},
   "source": [
    "### Importing libraries"
   ]
  },
  {
   "cell_type": "code",
   "execution_count": 3,
   "metadata": {},
   "outputs": [],
   "source": [
    "import pandas as pd\n",
    "from datetime import datetime\n",
    "from pyspark.sql.types import StructType, StructField, DateType\n",
    "import pyspark.sql.functions as f"
   ]
  },
  {
   "cell_type": "markdown",
   "metadata": {},
   "source": [
    "### Creating dataframes with dates\n",
    "The goal here is to have all the possible dates in order to get pre computed features"
   ]
  },
  {
   "cell_type": "code",
   "execution_count": 3,
   "metadata": {},
   "outputs": [],
   "source": [
    "schema = StructType([StructField(\"date\", DateType(), True)])"
   ]
  },
  {
   "cell_type": "code",
   "execution_count": 4,
   "metadata": {},
   "outputs": [],
   "source": [
    "df = spark\\\n",
    ".createDataFrame(pd.DataFrame(\\\n",
    "                              pd.date_range(start=\"2000-01-01\", end=\"2050-01-01\", freq=\"D\", name=\"Date\")), \n",
    "                 schema=schema)"
   ]
  },
  {
   "cell_type": "markdown",
   "metadata": {},
   "source": [
    "### Applying feature engineering"
   ]
  },
  {
   "cell_type": "code",
   "execution_count": 5,
   "metadata": {},
   "outputs": [],
   "source": [
    "df = df.withColumn(\"Onboard_Year\", f.year(\"Date\").cast(\"double\"))\\\n",
    ".withColumn(\"Onboard_Month\", f.month(\"Date\").cast(\"double\"))\\\n",
    ".withColumn(\"Onboard_DayOfMonth\", f.dayofmonth(\"Date\").cast(\"double\"))\\\n",
    ".withColumn(\"Onboard_DayOfWeek\", f.dayofweek(\"Date\").cast(\"double\"))\\\n",
    ".withColumn(\"Onboard_Quarter\", f.quarter(\"Date\").cast(\"double\"))\\\n",
    ".withColumn(\"Onboard_WeekOfYear\", f.weekofyear(\"Date\").cast(\"double\"))\\\n",
    ".withColumn(\"Date_index\", f.date_format(f.col(\"Date\"), \"yyyyMMdd\"))"
   ]
  },
  {
   "cell_type": "markdown",
   "metadata": {},
   "source": [
    "### Write data to BigQuery"
   ]
  },
  {
   "cell_type": "code",
   "execution_count": 6,
   "metadata": {},
   "outputs": [],
   "source": [
    "spark.conf.set('temporaryGcsBucket', BIGQUERY_BUCKET)"
   ]
  },
  {
   "cell_type": "code",
   "execution_count": 7,
   "metadata": {},
   "outputs": [
    {
     "name": "stderr",
     "output_type": "stream",
     "text": []
    }
   ],
   "source": [
    "df.write.partitionBy(\"Date_index\")\\\n",
    ".format('bigquery') \\\n",
    ".mode('overwrite')\\\n",
    ".option('table', 'feature_store.calendar_features') \\\n",
    ".save()"
   ]
  }
 ],
 "metadata": {
  "kernelspec": {
   "display_name": "Python 3",
   "language": "python",
   "name": "python3"
  },
  "language_info": {
   "codemirror_mode": {
    "name": "ipython",
    "version": 3
   },
   "file_extension": ".py",
   "mimetype": "text/x-python",
   "name": "python",
   "nbconvert_exporter": "python",
   "pygments_lexer": "ipython3",
   "version": "3.6.9"
  }
 },
 "nbformat": 4,
 "nbformat_minor": 5
}
